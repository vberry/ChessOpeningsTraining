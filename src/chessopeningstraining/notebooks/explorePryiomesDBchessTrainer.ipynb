{
 "cells": [
  {
   "cell_type": "markdown",
   "id": "d7202193-42d9-42e1-9448-838ca3e1d1ed",
   "metadata": {},
   "source": [
    "# Objective\n",
    "This notebook shows how to load and display the information from the \"Pryiome\" table\n",
    "in an opening repertoire database coming from the *Chess Opening Trainer* app.\n",
    "Experimentation seem to show that this table contains **bokmarked positions**"
   ]
  },
  {
   "cell_type": "code",
   "execution_count": 13,
   "id": "dba637c2-9436-499a-a8d5-575b6a49895b",
   "metadata": {},
   "outputs": [
    {
     "data": {
      "text/plain": [
       "<sqlite3.Cursor at 0x7f897872f500>"
      ]
     },
     "execution_count": 13,
     "metadata": {},
     "output_type": "execute_result"
    }
   ],
   "source": [
    "import chess\n",
    "import chess.svg\n",
    "from IPython.display import display, clear_output \n",
    "import sqlite3 \n",
    "# Path to an opening repertoire\n",
    "# Update according to your environment (don't forget the trailing '/')\n",
    "path='/Users/vberry/Prog/ChessOpeningsTraining/' \n",
    "con = sqlite3.connect(path+'openings/KIA.sqlite')\n",
    "cur = con.cursor()\n",
    "cur.execute(\"SELECT name FROM sqlite_master\")"
   ]
  },
  {
   "cell_type": "code",
   "execution_count": 14,
   "id": "2221a56b-ba7d-407b-a60c-45a408ea11b2",
   "metadata": {},
   "outputs": [],
   "source": [
    "# UTILITY FUNCTION\n",
    "import re\n",
    "def qui_joue(fen):\n",
    "    if ' w ' in fen:\n",
    "        return 'w'\n",
    "    else: return 'b'\n",
    "        \n",
    "def board_to_display(fen):\n",
    "    if ' w ' in fen:  # if white to move: display white at bottom\n",
    "        return chess.Board(fen) \n",
    "    else:  # display black at bottom\n",
    "        return chess.Board(fen).transform(chess.flip_vertical)"
   ]
  },
  {
   "cell_type": "code",
   "execution_count": null,
   "id": "2d076a12-431f-4b96-a58d-e245a7cff1a1",
   "metadata": {},
   "outputs": [],
   "source": [
    "# Display \"PRIYOMES\" that seem to be defined as bookmarked positions\n",
    "cur.execute(\"SELECT priyomes.frommoves,priyomes.fen,priyomes.title FROM priyomes\")\n",
    "res = cur.fetchall()\n",
    "display('This database contains '+str(len(res))+' bookmarked positions')\n",
    "for (coups,fen,titre) in res:\n",
    "    display( chess.svg.board(board_to_display(fen), size=250))\n",
    "    display(fen)\n",
    "    display('moves: '+coups+' ; '+qui_joue(fen)+\" is to play\")\n",
    "    display('Title: '+titre)\n",
    "    input()\n",
    "    clear_output(wait=True) # hides the position to display another one in the same place"
   ]
  }
 ],
 "metadata": {
  "kernelspec": {
   "display_name": "Python 3 (ipykernel)",
   "language": "python",
   "name": "python3"
  },
  "language_info": {
   "codemirror_mode": {
    "name": "ipython",
    "version": 3
   },
   "file_extension": ".py",
   "mimetype": "text/x-python",
   "name": "python",
   "nbconvert_exporter": "python",
   "pygments_lexer": "ipython3",
   "version": "3.8.18"
  }
 },
 "nbformat": 4,
 "nbformat_minor": 5
}
