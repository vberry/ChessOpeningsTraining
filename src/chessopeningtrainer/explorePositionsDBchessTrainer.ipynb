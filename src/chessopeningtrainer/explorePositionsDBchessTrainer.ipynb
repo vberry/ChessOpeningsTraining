{
 "cells": [
  {
   "cell_type": "code",
   "execution_count": 1,
   "id": "dba637c2-9436-499a-a8d5-575b6a49895b",
   "metadata": {},
   "outputs": [
    {
     "data": {
      "text/plain": [
       "<sqlite3.Cursor at 0x7fddf8b16420>"
      ]
     },
     "execution_count": 1,
     "metadata": {},
     "output_type": "execute_result"
    }
   ],
   "source": [
    "import chess\n",
    "import chess.svg\n",
    "from IPython.display import display, clear_output \n",
    "\n",
    "import sqlite3\n",
    "con = sqlite3.connect('openings/KIA.sqlite')\n",
    "cur = con.cursor()\n",
    "cur.execute(\"SELECT name FROM sqlite_master\")"
   ]
  },
  {
   "cell_type": "code",
   "execution_count": null,
   "id": "cc13b919-2b27-4678-8745-4c8bd98605c6",
   "metadata": {},
   "outputs": [],
   "source": [
    "# Echiquier initial\n",
    "board = chess.Board()\n",
    "# aussi : board = chess.Board(\"rnbqkbnr/pppppppp/8/8/8/8/PPPPPPPP/RNBQKBNR w KQkq - 0 1\")\n",
    "print(board)"
   ]
  },
  {
   "cell_type": "code",
   "execution_count": null,
   "id": "64b343d6-d407-4f3b-ab8d-c1d2ed2680e4",
   "metadata": {},
   "outputs": [],
   "source": [
    "#svg en fichier pour pouvoir l'afficher en SVG ensuite\n",
    "boardsvg = chess.svg.board( board, size=150)\n",
    "clear_output(wait=True) # efface la position pour afficher la nouvelle à la place ensuite\n",
    "display(boardsvg)"
   ]
  },
  {
   "cell_type": "code",
   "execution_count": 2,
   "id": "2221a56b-ba7d-407b-a60c-45a408ea11b2",
   "metadata": {},
   "outputs": [],
   "source": [
    "import re\n",
    "def qui_joue(fen):\n",
    "    if ' w ' in fen:\n",
    "        return 'w'\n",
    "    else: return 'b'\n",
    "        \n",
    "def board_to_display(fen):\n",
    "    if ' w ' in fen:  # if white to move: display white at bottom\n",
    "        return chess.Board(fen) \n",
    "    else:  # display black at bottom\n",
    "        return chess.Board(fen).transform(chess.flip_vertical)"
   ]
  },
  {
   "cell_type": "code",
   "execution_count": null,
   "id": "2d076a12-431f-4b96-a58d-e245a7cff1a1",
   "metadata": {},
   "outputs": [],
   "source": [
    "cur.execute(\"SELECT positions.move,positions.fromfen FROM positions\")\n",
    "res = cur.fetchall()\n",
    "for (coup,fen) in res:\n",
    "    display(chess.svg.board( board_to_display(fen), size=250))\n",
    "    display(fen)\n",
    "    display('coup a venir : '+coup+' from '+qui_joue(fen))\n",
    "    input('tapez ENTER')\n",
    "    clear_output(wait=False) # efface la position pour afficher la nouvelle à la place ensuite"
   ]
  },
  {
   "cell_type": "code",
   "execution_count": null,
   "id": "db89d3e2",
   "metadata": {},
   "outputs": [],
   "source": [
    "   "
   ]
  }
 ],
 "metadata": {
  "kernelspec": {
   "display_name": "Python 3 (ipykernel)",
   "language": "python",
   "name": "python3"
  },
  "language_info": {
   "codemirror_mode": {
    "name": "ipython",
    "version": 3
   },
   "file_extension": ".py",
   "mimetype": "text/x-python",
   "name": "python",
   "nbconvert_exporter": "python",
   "pygments_lexer": "ipython3",
   "version": "3.8.18"
  }
 },
 "nbformat": 4,
 "nbformat_minor": 5
}
